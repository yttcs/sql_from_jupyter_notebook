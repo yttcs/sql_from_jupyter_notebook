{
 "cells": [
  {
   "cell_type": "markdown",
   "id": "c8999f0e",
   "metadata": {},
   "source": [
    "# Connecting to a remote MariaDB (classicmodels) from Jupyter Notebook"
   ]
  },
  {
   "cell_type": "code",
   "execution_count": null,
   "id": "9e16b623",
   "metadata": {},
   "outputs": [],
   "source": [
    "import pymysql\n",
    "import pandas as pd\n",
    "import matplotlib.pyplot as plt"
   ]
  },
  {
   "cell_type": "code",
   "execution_count": null,
   "id": "394f92b3",
   "metadata": {},
   "outputs": [],
   "source": [
    "#load ipython-sql\n",
    "%load_ext sql   "
   ]
  },
  {
   "cell_type": "code",
   "execution_count": null,
   "id": "6e3ee816",
   "metadata": {},
   "outputs": [],
   "source": [
    "# What RDMS we are using + what DBAPI we are using\n",
    "# \n",
    "%sql mysql+pymysql://root:<password>!@<ip address>:3306/classicmodels     "
   ]
  },
  {
   "cell_type": "code",
   "execution_count": null,
   "id": "ac0ff481",
   "metadata": {},
   "outputs": [],
   "source": [
    "%sql use classicmodels"
   ]
  },
  {
   "cell_type": "code",
   "execution_count": null,
   "id": "5e9fdbbc",
   "metadata": {},
   "outputs": [],
   "source": [
    "%sql SHOW TABLES;"
   ]
  },
  {
   "cell_type": "code",
   "execution_count": null,
   "id": "5557cbe9",
   "metadata": {},
   "outputs": [],
   "source": [
    "%sql DESCRIBE customers"
   ]
  },
  {
   "cell_type": "code",
   "execution_count": null,
   "id": "32613d1a",
   "metadata": {},
   "outputs": [],
   "source": [
    "%sql DESCRIBE payments"
   ]
  },
  {
   "cell_type": "markdown",
   "id": "e0b0d58b",
   "metadata": {},
   "source": [
    "# Quick Visualization Examples"
   ]
  },
  {
   "cell_type": "code",
   "execution_count": null,
   "id": "2024f6f6",
   "metadata": {},
   "outputs": [],
   "source": [
    "%%sql\n",
    "# How many customers\n",
    "SELECT COUNT(DISTINCT customerNumber)\n",
    "FROM customers"
   ]
  },
  {
   "cell_type": "code",
   "execution_count": null,
   "id": "29910da1",
   "metadata": {},
   "outputs": [],
   "source": [
    "%%sql\n",
    "# How many customers by country\n",
    "SELECT COUNT(customerNumber) AS Count, country AS Country\n",
    "FROM customers \n",
    "GROUP BY country DESC"
   ]
  },
  {
   "cell_type": "code",
   "execution_count": null,
   "id": "061daf6f",
   "metadata": {},
   "outputs": [],
   "source": [
    "# save the query results from the last cell. You can also just do result = <your SQL query>\n",
    "result = _"
   ]
  },
  {
   "cell_type": "code",
   "execution_count": null,
   "id": "7dd517f4",
   "metadata": {},
   "outputs": [],
   "source": [
    "# save the last query to a .csv file\n",
    "result.csv(filename='test_query.csv')"
   ]
  },
  {
   "cell_type": "code",
   "execution_count": null,
   "id": "266b9935",
   "metadata": {
    "scrolled": false
   },
   "outputs": [],
   "source": [
    "# create a df from the last query \n",
    "df1=pd.DataFrame(result)"
   ]
  },
  {
   "cell_type": "code",
   "execution_count": null,
   "id": "7138a127",
   "metadata": {},
   "outputs": [],
   "source": [
    "# visualize the df\n",
    "df1.plot(x='Country', y= 'Count', kind=\"bar\")\n",
    "legend = plt.legend(title=\"# of Customers by Country\", loc=0, fontsize='small', fancybox=False)\n",
    "plt.show()"
   ]
  },
  {
   "cell_type": "code",
   "execution_count": null,
   "id": "4536b806",
   "metadata": {},
   "outputs": [],
   "source": [
    "%%sql\n",
    "# biggest customers by total amount spent\n",
    "SELECT customerNumber AS Customer_ID, COUNT(checkNumber) AS Payments, SUM(amount) AS Total_Amount, \n",
    "   CAST((SUM(amount)/COUNT(checkNumber)) AS DECIMAL(10,2)) AS avg_per_Payment\n",
    "FROM payments\n",
    "GROUP BY customerNumber\n",
    "ORDER BY MAX(amount) DESC\n",
    "\n"
   ]
  },
  {
   "cell_type": "code",
   "execution_count": null,
   "id": "09ee937f",
   "metadata": {},
   "outputs": [],
   "source": [
    "%%sql\n",
    "# most important customers by RFA\n",
    "SELECT customerNumber AS Customer_ID, MAX(paymentDate) AS Last_Payment, COUNT(checkNumber) AS Orders_this_Year, SUM(amount) AS Total_Amount\n",
    "FROM payments \n",
    "WHERE paymentDate >= '2005-01-01'  \n",
    "GROUP BY customerNumber\n",
    "HAVING Orders_this_Year > 1 \n",
    "ORDER BY Last_Payment DESC"
   ]
  },
  {
   "cell_type": "code",
   "execution_count": null,
   "id": "edf5907c",
   "metadata": {},
   "outputs": [],
   "source": [
    "result = _"
   ]
  },
  {
   "cell_type": "code",
   "execution_count": null,
   "id": "afd1220a",
   "metadata": {},
   "outputs": [],
   "source": [
    "df2=pd.DataFrame(result)"
   ]
  },
  {
   "cell_type": "code",
   "execution_count": null,
   "id": "990e4d17",
   "metadata": {},
   "outputs": [],
   "source": [
    "df2.Orders_this_Year = df2.Orders_this_Year.astype(int)"
   ]
  },
  {
   "cell_type": "code",
   "execution_count": null,
   "id": "3666d218",
   "metadata": {},
   "outputs": [],
   "source": [
    "df2.plot(kind='bar', x='Customer_ID', secondary_y= 'Total_Amount')\n",
    "plt.show()"
   ]
  }
 ],
 "metadata": {
  "kernelspec": {
   "display_name": "sql",
   "language": "python",
   "name": "sql"
  },
  "language_info": {
   "codemirror_mode": {
    "name": "ipython",
    "version": 3
   },
   "file_extension": ".py",
   "mimetype": "text/x-python",
   "name": "python",
   "nbconvert_exporter": "python",
   "pygments_lexer": "ipython3",
   "version": "3.10.2"
  }
 },
 "nbformat": 4,
 "nbformat_minor": 5
}
